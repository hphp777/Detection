{
  "nbformat": 4,
  "nbformat_minor": 0,
  "metadata": {
    "colab": {
      "name": "Making_annotation_x-ray.ipynb",
      "provenance": [],
      "collapsed_sections": [],
      "authorship_tag": "ABX9TyPhfMoB/tmJwsoGc9H6gHBM",
      "include_colab_link": true
    },
    "kernelspec": {
      "name": "python3",
      "display_name": "Python 3"
    },
    "language_info": {
      "name": "python"
    }
  },
  "cells": [
    {
      "cell_type": "markdown",
      "metadata": {
        "id": "view-in-github",
        "colab_type": "text"
      },
      "source": [
        "<a href=\"https://colab.research.google.com/github/hphp777/Detection/blob/main/Yolo/Making_annotation_x_ray.ipynb\" target=\"_parent\"><img src=\"https://colab.research.google.com/assets/colab-badge.svg\" alt=\"Open In Colab\"/></a>"
      ]
    },
    {
      "cell_type": "code",
      "metadata": {
        "colab": {
          "base_uri": "https://localhost:8080/"
        },
        "id": "bBL6jdiUYGpA",
        "outputId": "d0c7ffef-ec0f-4f90-a771-ecd4ad7f7ed0"
      },
      "source": [
        "!git clone https://github.com/ultralytics/yolov3\n",
        "!cd yolov3;pip install -qr requirements.txt"
      ],
      "execution_count": 5,
      "outputs": [
        {
          "output_type": "stream",
          "text": [
            "Cloning into 'yolov3'...\n",
            "remote: Enumerating objects: 9862, done.\u001b[K\n",
            "remote: Total 9862 (delta 0), reused 0 (delta 0), pack-reused 9862\u001b[K\n",
            "Receiving objects: 100% (9862/9862), 9.19 MiB | 21.10 MiB/s, done.\n",
            "Resolving deltas: 100% (6666/6666), done.\n",
            "\u001b[K     |████████████████████████████████| 636 kB 5.2 MB/s \n",
            "\u001b[?25h"
          ],
          "name": "stdout"
        }
      ]
    },
    {
      "cell_type": "code",
      "metadata": {
        "colab": {
          "base_uri": "https://localhost:8080/"
        },
        "id": "E9keMmY-YLPV",
        "outputId": "61650fab-bc28-456b-f702-16be5bacfaee"
      },
      "source": [
        "import torch\n",
        "from IPython.display import Image, clear_output  # to display images\n",
        "\n",
        "clear_output()\n",
        "print(f\"Setup complete. Using torch {torch.__version__} ({torch.cuda.get_device_properties(0).name if torch.cuda.is_available() else 'CPU'})\")"
      ],
      "execution_count": 6,
      "outputs": [
        {
          "output_type": "stream",
          "text": [
            "Setup complete. Using torch 1.9.0+cu102 (CPU)\n"
          ],
          "name": "stdout"
        }
      ]
    },
    {
      "cell_type": "code",
      "metadata": {
        "colab": {
          "base_uri": "https://localhost:8080/"
        },
        "id": "O0XaOIO4XHBu",
        "outputId": "f162ca1e-2a5d-4eec-cef7-057a85d99a07"
      },
      "source": [
        "from google.colab import drive\n",
        "drive.mount('/content/drive')"
      ],
      "execution_count": 1,
      "outputs": [
        {
          "output_type": "stream",
          "text": [
            "Mounted at /content/drive\n"
          ],
          "name": "stdout"
        }
      ]
    },
    {
      "cell_type": "code",
      "metadata": {
        "id": "iqn25EsZXMxF"
      },
      "source": [
        "import numpy as np\n",
        "import pandas as pd\n",
        "import seaborn as sns\n",
        "import matplotlib.pyplot as plt\n",
        "from tqdm import tqdm\n",
        "\n",
        "import os\n",
        "from glob import glob\n",
        "%matplotlib inline\n"
      ],
      "execution_count": 3,
      "outputs": []
    },
    {
      "cell_type": "code",
      "metadata": {
        "colab": {
          "base_uri": "https://localhost:8080/",
          "height": 204
        },
        "id": "pDsUiNsYXj-S",
        "outputId": "5c2efbb0-b96c-481c-edf2-ab4bc1ce269c"
      },
      "source": [
        "all_data = pd.read_csv('/content/drive/MyDrive/GraduationProject/BBox_List.csv', index_col=0)\n",
        "all_data.head()"
      ],
      "execution_count": 86,
      "outputs": [
        {
          "output_type": "execute_result",
          "data": {
            "text/html": [
              "<div>\n",
              "<style scoped>\n",
              "    .dataframe tbody tr th:only-of-type {\n",
              "        vertical-align: middle;\n",
              "    }\n",
              "\n",
              "    .dataframe tbody tr th {\n",
              "        vertical-align: top;\n",
              "    }\n",
              "\n",
              "    .dataframe thead th {\n",
              "        text-align: right;\n",
              "    }\n",
              "</style>\n",
              "<table border=\"1\" class=\"dataframe\">\n",
              "  <thead>\n",
              "    <tr style=\"text-align: right;\">\n",
              "      <th></th>\n",
              "      <th>Image Index</th>\n",
              "      <th>Finding Label</th>\n",
              "      <th>x_min</th>\n",
              "      <th>y_min</th>\n",
              "      <th>w</th>\n",
              "      <th>h</th>\n",
              "      <th>x_max</th>\n",
              "      <th>y_max</th>\n",
              "      <th>x_mid</th>\n",
              "      <th>y_mid</th>\n",
              "      <th>w_n</th>\n",
              "      <th>h_n</th>\n",
              "    </tr>\n",
              "  </thead>\n",
              "  <tbody>\n",
              "    <tr>\n",
              "      <th>0</th>\n",
              "      <td>00013118_008.png</td>\n",
              "      <td>Atelectasis</td>\n",
              "      <td>225.084746</td>\n",
              "      <td>547.019217</td>\n",
              "      <td>86.779661</td>\n",
              "      <td>79.186441</td>\n",
              "      <td>311.864407</td>\n",
              "      <td>626.205657</td>\n",
              "      <td>0.262182</td>\n",
              "      <td>0.572864</td>\n",
              "      <td>0.084746</td>\n",
              "      <td>0.077331</td>\n",
              "    </tr>\n",
              "    <tr>\n",
              "      <th>1</th>\n",
              "      <td>00014716_007.png</td>\n",
              "      <td>Atelectasis</td>\n",
              "      <td>686.101695</td>\n",
              "      <td>131.543498</td>\n",
              "      <td>185.491525</td>\n",
              "      <td>313.491525</td>\n",
              "      <td>871.593220</td>\n",
              "      <td>445.035024</td>\n",
              "      <td>0.760593</td>\n",
              "      <td>0.281532</td>\n",
              "      <td>0.181144</td>\n",
              "      <td>0.306144</td>\n",
              "    </tr>\n",
              "    <tr>\n",
              "      <th>2</th>\n",
              "      <td>00029817_009.png</td>\n",
              "      <td>Atelectasis</td>\n",
              "      <td>221.830508</td>\n",
              "      <td>317.053115</td>\n",
              "      <td>155.118644</td>\n",
              "      <td>216.949153</td>\n",
              "      <td>376.949153</td>\n",
              "      <td>534.002268</td>\n",
              "      <td>0.292373</td>\n",
              "      <td>0.415554</td>\n",
              "      <td>0.151483</td>\n",
              "      <td>0.211864</td>\n",
              "    </tr>\n",
              "    <tr>\n",
              "      <th>3</th>\n",
              "      <td>00014687_001.png</td>\n",
              "      <td>Atelectasis</td>\n",
              "      <td>726.237288</td>\n",
              "      <td>494.951420</td>\n",
              "      <td>141.016949</td>\n",
              "      <td>55.322034</td>\n",
              "      <td>867.254237</td>\n",
              "      <td>550.273454</td>\n",
              "      <td>0.778072</td>\n",
              "      <td>0.510364</td>\n",
              "      <td>0.137712</td>\n",
              "      <td>0.054025</td>\n",
              "    </tr>\n",
              "    <tr>\n",
              "      <th>4</th>\n",
              "      <td>00017877_001.png</td>\n",
              "      <td>Atelectasis</td>\n",
              "      <td>660.067797</td>\n",
              "      <td>569.780787</td>\n",
              "      <td>200.677966</td>\n",
              "      <td>78.101695</td>\n",
              "      <td>860.745763</td>\n",
              "      <td>647.882481</td>\n",
              "      <td>0.742585</td>\n",
              "      <td>0.594562</td>\n",
              "      <td>0.195975</td>\n",
              "      <td>0.076271</td>\n",
              "    </tr>\n",
              "  </tbody>\n",
              "</table>\n",
              "</div>"
            ],
            "text/plain": [
              "        Image Index Finding Label       x_min  ...     y_mid       w_n       h_n\n",
              "0  00013118_008.png   Atelectasis  225.084746  ...  0.572864  0.084746  0.077331\n",
              "1  00014716_007.png   Atelectasis  686.101695  ...  0.281532  0.181144  0.306144\n",
              "2  00029817_009.png   Atelectasis  221.830508  ...  0.415554  0.151483  0.211864\n",
              "3  00014687_001.png   Atelectasis  726.237288  ...  0.510364  0.137712  0.054025\n",
              "4  00017877_001.png   Atelectasis  660.067797  ...  0.594562  0.195975  0.076271\n",
              "\n",
              "[5 rows x 12 columns]"
            ]
          },
          "metadata": {},
          "execution_count": 86
        }
      ]
    },
    {
      "cell_type": "code",
      "metadata": {
        "colab": {
          "base_uri": "https://localhost:8080/",
          "height": 204
        },
        "id": "IGRIw-S0j3vm",
        "outputId": "a8292505-e1d2-476b-f648-9e94d7345953"
      },
      "source": [
        "Bbox_norm.head()"
      ],
      "execution_count": 88,
      "outputs": [
        {
          "output_type": "execute_result",
          "data": {
            "text/html": [
              "<div>\n",
              "<style scoped>\n",
              "    .dataframe tbody tr th:only-of-type {\n",
              "        vertical-align: middle;\n",
              "    }\n",
              "\n",
              "    .dataframe tbody tr th {\n",
              "        vertical-align: top;\n",
              "    }\n",
              "\n",
              "    .dataframe thead th {\n",
              "        text-align: right;\n",
              "    }\n",
              "</style>\n",
              "<table border=\"1\" class=\"dataframe\">\n",
              "  <thead>\n",
              "    <tr style=\"text-align: right;\">\n",
              "      <th></th>\n",
              "      <th>x_mid</th>\n",
              "      <th>y_mid</th>\n",
              "      <th>w</th>\n",
              "      <th>h</th>\n",
              "    </tr>\n",
              "  </thead>\n",
              "  <tbody>\n",
              "    <tr>\n",
              "      <th>0</th>\n",
              "      <td>0.262182</td>\n",
              "      <td>0.572864</td>\n",
              "      <td>0.084746</td>\n",
              "      <td>0.077331</td>\n",
              "    </tr>\n",
              "    <tr>\n",
              "      <th>1</th>\n",
              "      <td>0.760593</td>\n",
              "      <td>0.281532</td>\n",
              "      <td>0.181144</td>\n",
              "      <td>0.306144</td>\n",
              "    </tr>\n",
              "    <tr>\n",
              "      <th>2</th>\n",
              "      <td>0.292373</td>\n",
              "      <td>0.415554</td>\n",
              "      <td>0.151483</td>\n",
              "      <td>0.211864</td>\n",
              "    </tr>\n",
              "    <tr>\n",
              "      <th>3</th>\n",
              "      <td>0.778072</td>\n",
              "      <td>0.510364</td>\n",
              "      <td>0.137712</td>\n",
              "      <td>0.054025</td>\n",
              "    </tr>\n",
              "    <tr>\n",
              "      <th>4</th>\n",
              "      <td>0.742585</td>\n",
              "      <td>0.594562</td>\n",
              "      <td>0.195975</td>\n",
              "      <td>0.076271</td>\n",
              "    </tr>\n",
              "  </tbody>\n",
              "</table>\n",
              "</div>"
            ],
            "text/plain": [
              "      x_mid     y_mid         w         h\n",
              "0  0.262182  0.572864  0.084746  0.077331\n",
              "1  0.760593  0.281532  0.181144  0.306144\n",
              "2  0.292373  0.415554  0.151483  0.211864\n",
              "3  0.778072  0.510364  0.137712  0.054025\n",
              "4  0.742585  0.594562  0.195975  0.076271"
            ]
          },
          "metadata": {},
          "execution_count": 88
        }
      ]
    },
    {
      "cell_type": "code",
      "metadata": {
        "colab": {
          "base_uri": "https://localhost:8080/"
        },
        "id": "1mHCJRJGf-39",
        "outputId": "ed70fe13-e2f8-44ce-b014-0e4f42ee4927"
      },
      "source": [
        "CLASS_NAMES = all_data['Finding Label'].unique().tolist()\n",
        "print(CLASS_NAMES)"
      ],
      "execution_count": 56,
      "outputs": [
        {
          "output_type": "stream",
          "text": [
            "['Atelectasis', 'Cardiomegaly', 'Effusion', 'Infiltrate', 'Mass', 'Nodule', 'Pneumonia', 'Pneumothorax']\n"
          ],
          "name": "stdout"
        }
      ]
    },
    {
      "cell_type": "code",
      "metadata": {
        "colab": {
          "base_uri": "https://localhost:8080/",
          "height": 389
        },
        "id": "q5bwXMYNYr9z",
        "outputId": "16b8e5c6-07f8-4d8c-9dec-ec012b7063b3"
      },
      "source": [
        "# 이미지이름: 이미지경로 를 만들어주는 딕셔너리\n",
        "all_image_paths = {os.path.basename(x): x for x in \n",
        "                   glob('/content/drive/MyDrive/GraduationProject/images/images*/images/*.png')}\n",
        "all_data['FilePath'] = all_data['Image Index'].map(all_image_paths.get)\n",
        "all_data.head()"
      ],
      "execution_count": 8,
      "outputs": [
        {
          "output_type": "error",
          "ename": "KeyboardInterrupt",
          "evalue": "ignored",
          "traceback": [
            "\u001b[0;31m---------------------------------------------------------------------------\u001b[0m",
            "\u001b[0;31mKeyboardInterrupt\u001b[0m                         Traceback (most recent call last)",
            "\u001b[0;32m<ipython-input-8-44a55375f022>\u001b[0m in \u001b[0;36m<module>\u001b[0;34m()\u001b[0m\n\u001b[1;32m      1\u001b[0m \u001b[0;31m# 이미지이름: 이미지경로 를 만들어주는 딕셔너리\u001b[0m\u001b[0;34m\u001b[0m\u001b[0;34m\u001b[0m\u001b[0;34m\u001b[0m\u001b[0m\n\u001b[1;32m      2\u001b[0m all_image_paths = {os.path.basename(x): x for x in \n\u001b[0;32m----> 3\u001b[0;31m                    glob('/content/drive/MyDrive/GraduationProject/images/images*/images/*.png')}\n\u001b[0m\u001b[1;32m      4\u001b[0m \u001b[0mall_data\u001b[0m\u001b[0;34m[\u001b[0m\u001b[0;34m'FilePath'\u001b[0m\u001b[0;34m]\u001b[0m \u001b[0;34m=\u001b[0m \u001b[0mall_data\u001b[0m\u001b[0;34m[\u001b[0m\u001b[0;34m'Image Index'\u001b[0m\u001b[0;34m]\u001b[0m\u001b[0;34m.\u001b[0m\u001b[0mmap\u001b[0m\u001b[0;34m(\u001b[0m\u001b[0mall_image_paths\u001b[0m\u001b[0;34m.\u001b[0m\u001b[0mget\u001b[0m\u001b[0;34m)\u001b[0m\u001b[0;34m\u001b[0m\u001b[0;34m\u001b[0m\u001b[0m\n\u001b[1;32m      5\u001b[0m \u001b[0mall_data\u001b[0m\u001b[0;34m.\u001b[0m\u001b[0mhead\u001b[0m\u001b[0;34m(\u001b[0m\u001b[0;34m)\u001b[0m\u001b[0;34m\u001b[0m\u001b[0;34m\u001b[0m\u001b[0m\n",
            "\u001b[0;32m/usr/lib/python3.7/glob.py\u001b[0m in \u001b[0;36mglob\u001b[0;34m(pathname, recursive)\u001b[0m\n\u001b[1;32m     18\u001b[0m     \u001b[0mzero\u001b[0m \u001b[0;32mor\u001b[0m \u001b[0mmore\u001b[0m \u001b[0mdirectories\u001b[0m \u001b[0;32mand\u001b[0m \u001b[0msubdirectories\u001b[0m\u001b[0;34m.\u001b[0m\u001b[0;34m\u001b[0m\u001b[0;34m\u001b[0m\u001b[0m\n\u001b[1;32m     19\u001b[0m     \"\"\"\n\u001b[0;32m---> 20\u001b[0;31m     \u001b[0;32mreturn\u001b[0m \u001b[0mlist\u001b[0m\u001b[0;34m(\u001b[0m\u001b[0miglob\u001b[0m\u001b[0;34m(\u001b[0m\u001b[0mpathname\u001b[0m\u001b[0;34m,\u001b[0m \u001b[0mrecursive\u001b[0m\u001b[0;34m=\u001b[0m\u001b[0mrecursive\u001b[0m\u001b[0;34m)\u001b[0m\u001b[0;34m)\u001b[0m\u001b[0;34m\u001b[0m\u001b[0;34m\u001b[0m\u001b[0m\n\u001b[0m\u001b[1;32m     21\u001b[0m \u001b[0;34m\u001b[0m\u001b[0m\n\u001b[1;32m     22\u001b[0m \u001b[0;32mdef\u001b[0m \u001b[0miglob\u001b[0m\u001b[0;34m(\u001b[0m\u001b[0mpathname\u001b[0m\u001b[0;34m,\u001b[0m \u001b[0;34m*\u001b[0m\u001b[0;34m,\u001b[0m \u001b[0mrecursive\u001b[0m\u001b[0;34m=\u001b[0m\u001b[0;32mFalse\u001b[0m\u001b[0;34m)\u001b[0m\u001b[0;34m:\u001b[0m\u001b[0;34m\u001b[0m\u001b[0;34m\u001b[0m\u001b[0m\n",
            "\u001b[0;32m/usr/lib/python3.7/glob.py\u001b[0m in \u001b[0;36m_iglob\u001b[0;34m(pathname, recursive, dironly)\u001b[0m\n\u001b[1;32m     70\u001b[0m         \u001b[0mglob_in_dir\u001b[0m \u001b[0;34m=\u001b[0m \u001b[0m_glob0\u001b[0m\u001b[0;34m\u001b[0m\u001b[0;34m\u001b[0m\u001b[0m\n\u001b[1;32m     71\u001b[0m     \u001b[0;32mfor\u001b[0m \u001b[0mdirname\u001b[0m \u001b[0;32min\u001b[0m \u001b[0mdirs\u001b[0m\u001b[0;34m:\u001b[0m\u001b[0;34m\u001b[0m\u001b[0;34m\u001b[0m\u001b[0m\n\u001b[0;32m---> 72\u001b[0;31m         \u001b[0;32mfor\u001b[0m \u001b[0mname\u001b[0m \u001b[0;32min\u001b[0m \u001b[0mglob_in_dir\u001b[0m\u001b[0;34m(\u001b[0m\u001b[0mdirname\u001b[0m\u001b[0;34m,\u001b[0m \u001b[0mbasename\u001b[0m\u001b[0;34m,\u001b[0m \u001b[0mdironly\u001b[0m\u001b[0;34m)\u001b[0m\u001b[0;34m:\u001b[0m\u001b[0;34m\u001b[0m\u001b[0;34m\u001b[0m\u001b[0m\n\u001b[0m\u001b[1;32m     73\u001b[0m             \u001b[0;32myield\u001b[0m \u001b[0mos\u001b[0m\u001b[0;34m.\u001b[0m\u001b[0mpath\u001b[0m\u001b[0;34m.\u001b[0m\u001b[0mjoin\u001b[0m\u001b[0;34m(\u001b[0m\u001b[0mdirname\u001b[0m\u001b[0;34m,\u001b[0m \u001b[0mname\u001b[0m\u001b[0;34m)\u001b[0m\u001b[0;34m\u001b[0m\u001b[0;34m\u001b[0m\u001b[0m\n\u001b[1;32m     74\u001b[0m \u001b[0;34m\u001b[0m\u001b[0m\n",
            "\u001b[0;32m/usr/lib/python3.7/glob.py\u001b[0m in \u001b[0;36m_glob1\u001b[0;34m(dirname, pattern, dironly)\u001b[0m\n\u001b[1;32m     78\u001b[0m \u001b[0;34m\u001b[0m\u001b[0m\n\u001b[1;32m     79\u001b[0m \u001b[0;32mdef\u001b[0m \u001b[0m_glob1\u001b[0m\u001b[0;34m(\u001b[0m\u001b[0mdirname\u001b[0m\u001b[0;34m,\u001b[0m \u001b[0mpattern\u001b[0m\u001b[0;34m,\u001b[0m \u001b[0mdironly\u001b[0m\u001b[0;34m)\u001b[0m\u001b[0;34m:\u001b[0m\u001b[0;34m\u001b[0m\u001b[0;34m\u001b[0m\u001b[0m\n\u001b[0;32m---> 80\u001b[0;31m     \u001b[0mnames\u001b[0m \u001b[0;34m=\u001b[0m \u001b[0mlist\u001b[0m\u001b[0;34m(\u001b[0m\u001b[0m_iterdir\u001b[0m\u001b[0;34m(\u001b[0m\u001b[0mdirname\u001b[0m\u001b[0;34m,\u001b[0m \u001b[0mdironly\u001b[0m\u001b[0;34m)\u001b[0m\u001b[0;34m)\u001b[0m\u001b[0;34m\u001b[0m\u001b[0;34m\u001b[0m\u001b[0m\n\u001b[0m\u001b[1;32m     81\u001b[0m     \u001b[0;32mif\u001b[0m \u001b[0;32mnot\u001b[0m \u001b[0m_ishidden\u001b[0m\u001b[0;34m(\u001b[0m\u001b[0mpattern\u001b[0m\u001b[0;34m)\u001b[0m\u001b[0;34m:\u001b[0m\u001b[0;34m\u001b[0m\u001b[0;34m\u001b[0m\u001b[0m\n\u001b[1;32m     82\u001b[0m         \u001b[0mnames\u001b[0m \u001b[0;34m=\u001b[0m \u001b[0;34m(\u001b[0m\u001b[0mx\u001b[0m \u001b[0;32mfor\u001b[0m \u001b[0mx\u001b[0m \u001b[0;32min\u001b[0m \u001b[0mnames\u001b[0m \u001b[0;32mif\u001b[0m \u001b[0;32mnot\u001b[0m \u001b[0m_ishidden\u001b[0m\u001b[0;34m(\u001b[0m\u001b[0mx\u001b[0m\u001b[0;34m)\u001b[0m\u001b[0;34m)\u001b[0m\u001b[0;34m\u001b[0m\u001b[0;34m\u001b[0m\u001b[0m\n",
            "\u001b[0;32m/usr/lib/python3.7/glob.py\u001b[0m in \u001b[0;36m_iterdir\u001b[0;34m(dirname, dironly)\u001b[0m\n\u001b[1;32m    119\u001b[0m             \u001b[0mdirname\u001b[0m \u001b[0;34m=\u001b[0m \u001b[0mos\u001b[0m\u001b[0;34m.\u001b[0m\u001b[0mcurdir\u001b[0m\u001b[0;34m\u001b[0m\u001b[0;34m\u001b[0m\u001b[0m\n\u001b[1;32m    120\u001b[0m     \u001b[0;32mtry\u001b[0m\u001b[0;34m:\u001b[0m\u001b[0;34m\u001b[0m\u001b[0;34m\u001b[0m\u001b[0m\n\u001b[0;32m--> 121\u001b[0;31m         \u001b[0;32mwith\u001b[0m \u001b[0mos\u001b[0m\u001b[0;34m.\u001b[0m\u001b[0mscandir\u001b[0m\u001b[0;34m(\u001b[0m\u001b[0mdirname\u001b[0m\u001b[0;34m)\u001b[0m \u001b[0;32mas\u001b[0m \u001b[0mit\u001b[0m\u001b[0;34m:\u001b[0m\u001b[0;34m\u001b[0m\u001b[0;34m\u001b[0m\u001b[0m\n\u001b[0m\u001b[1;32m    122\u001b[0m             \u001b[0;32mfor\u001b[0m \u001b[0mentry\u001b[0m \u001b[0;32min\u001b[0m \u001b[0mit\u001b[0m\u001b[0;34m:\u001b[0m\u001b[0;34m\u001b[0m\u001b[0;34m\u001b[0m\u001b[0m\n\u001b[1;32m    123\u001b[0m                 \u001b[0;32mtry\u001b[0m\u001b[0;34m:\u001b[0m\u001b[0;34m\u001b[0m\u001b[0;34m\u001b[0m\u001b[0m\n",
            "\u001b[0;31mKeyboardInterrupt\u001b[0m: "
          ]
        }
      ]
    },
    {
      "cell_type": "code",
      "metadata": {
        "id": "GjU4OJlijajt"
      },
      "source": [
        "# Bbox_norm = pd.DataFrame()\n",
        "# Bbox_norm['x_mid'] = all_data['x_mid']\n",
        "# Bbox_norm['y_mid'] = all_data['y_mid']\n",
        "# Bbox_norm['w'] = all_data['w_n']\n",
        "# Bbox_norm['h'] = all_data['h_n']\n",
        "# Bbox_norm.to_csv('/content/drive/MyDrive/GraduationProject/BBox_norm.csv')"
      ],
      "execution_count": 80,
      "outputs": []
    },
    {
      "cell_type": "code",
      "metadata": {
        "colab": {
          "base_uri": "https://localhost:8080/",
          "height": 204
        },
        "id": "8Ek-daQCg9L8",
        "outputId": "8db5fc9b-0caf-45d2-e548-014a48eba595"
      },
      "source": [
        "# all_data['x_max'] = all_data.apply(lambda row: row.x_min + row.w, axis =1)\n",
        "# all_data['y_max'] = all_data.apply(lambda row: row.y_min + row.h, axis =1)\n",
        "\n",
        "# # calculation x-mid, y-mid, width and hight of the bounding box for yolo\n",
        "# all_data['x_mid'] = all_data.apply(lambda row: (row.x_max+row.x_min)/2, axis =1)\n",
        "# all_data['y_mid'] = all_data.apply(lambda row: (row.y_max+row.y_min)/2, axis =1)\n",
        "\n",
        "# all_data['x_mid'] /= float(size)\n",
        "# all_data['y_mid'] /= float(size)\n",
        "\n",
        "# all_data['w_n'] =  all_data.apply(lambda row: (row.w)/size, axis =1)\n",
        "# all_data['h_n'] =  all_data.apply(lambda row: (row.h)/size, axis =1)\n",
        "\n",
        "# all_data.head()"
      ],
      "execution_count": 84,
      "outputs": [
        {
          "output_type": "execute_result",
          "data": {
            "text/html": [
              "<div>\n",
              "<style scoped>\n",
              "    .dataframe tbody tr th:only-of-type {\n",
              "        vertical-align: middle;\n",
              "    }\n",
              "\n",
              "    .dataframe tbody tr th {\n",
              "        vertical-align: top;\n",
              "    }\n",
              "\n",
              "    .dataframe thead th {\n",
              "        text-align: right;\n",
              "    }\n",
              "</style>\n",
              "<table border=\"1\" class=\"dataframe\">\n",
              "  <thead>\n",
              "    <tr style=\"text-align: right;\">\n",
              "      <th></th>\n",
              "      <th>Image Index</th>\n",
              "      <th>Finding Label</th>\n",
              "      <th>x_min</th>\n",
              "      <th>y_min</th>\n",
              "      <th>w</th>\n",
              "      <th>h</th>\n",
              "      <th>x_max</th>\n",
              "      <th>y_max</th>\n",
              "      <th>x_mid</th>\n",
              "      <th>y_mid</th>\n",
              "      <th>w_n</th>\n",
              "      <th>h_n</th>\n",
              "    </tr>\n",
              "  </thead>\n",
              "  <tbody>\n",
              "    <tr>\n",
              "      <th>0</th>\n",
              "      <td>00013118_008.png</td>\n",
              "      <td>Atelectasis</td>\n",
              "      <td>225.084746</td>\n",
              "      <td>547.019217</td>\n",
              "      <td>86.779661</td>\n",
              "      <td>79.186441</td>\n",
              "      <td>311.864407</td>\n",
              "      <td>626.205657</td>\n",
              "      <td>0.262182</td>\n",
              "      <td>0.572864</td>\n",
              "      <td>0.084746</td>\n",
              "      <td>0.077331</td>\n",
              "    </tr>\n",
              "    <tr>\n",
              "      <th>1</th>\n",
              "      <td>00014716_007.png</td>\n",
              "      <td>Atelectasis</td>\n",
              "      <td>686.101695</td>\n",
              "      <td>131.543498</td>\n",
              "      <td>185.491525</td>\n",
              "      <td>313.491525</td>\n",
              "      <td>871.593220</td>\n",
              "      <td>445.035024</td>\n",
              "      <td>0.760593</td>\n",
              "      <td>0.281532</td>\n",
              "      <td>0.181144</td>\n",
              "      <td>0.306144</td>\n",
              "    </tr>\n",
              "    <tr>\n",
              "      <th>2</th>\n",
              "      <td>00029817_009.png</td>\n",
              "      <td>Atelectasis</td>\n",
              "      <td>221.830508</td>\n",
              "      <td>317.053115</td>\n",
              "      <td>155.118644</td>\n",
              "      <td>216.949153</td>\n",
              "      <td>376.949153</td>\n",
              "      <td>534.002268</td>\n",
              "      <td>0.292373</td>\n",
              "      <td>0.415554</td>\n",
              "      <td>0.151483</td>\n",
              "      <td>0.211864</td>\n",
              "    </tr>\n",
              "    <tr>\n",
              "      <th>3</th>\n",
              "      <td>00014687_001.png</td>\n",
              "      <td>Atelectasis</td>\n",
              "      <td>726.237288</td>\n",
              "      <td>494.951420</td>\n",
              "      <td>141.016949</td>\n",
              "      <td>55.322034</td>\n",
              "      <td>867.254237</td>\n",
              "      <td>550.273454</td>\n",
              "      <td>0.778072</td>\n",
              "      <td>0.510364</td>\n",
              "      <td>0.137712</td>\n",
              "      <td>0.054025</td>\n",
              "    </tr>\n",
              "    <tr>\n",
              "      <th>4</th>\n",
              "      <td>00017877_001.png</td>\n",
              "      <td>Atelectasis</td>\n",
              "      <td>660.067797</td>\n",
              "      <td>569.780787</td>\n",
              "      <td>200.677966</td>\n",
              "      <td>78.101695</td>\n",
              "      <td>860.745763</td>\n",
              "      <td>647.882481</td>\n",
              "      <td>0.742585</td>\n",
              "      <td>0.594562</td>\n",
              "      <td>0.195975</td>\n",
              "      <td>0.076271</td>\n",
              "    </tr>\n",
              "  </tbody>\n",
              "</table>\n",
              "</div>"
            ],
            "text/plain": [
              "        Image Index Finding Label       x_min  ...     y_mid       w_n       h_n\n",
              "0  00013118_008.png   Atelectasis  225.084746  ...  0.572864  0.084746  0.077331\n",
              "1  00014716_007.png   Atelectasis  686.101695  ...  0.281532  0.181144  0.306144\n",
              "2  00029817_009.png   Atelectasis  221.830508  ...  0.415554  0.151483  0.211864\n",
              "3  00014687_001.png   Atelectasis  726.237288  ...  0.510364  0.137712  0.054025\n",
              "4  00017877_001.png   Atelectasis  660.067797  ...  0.594562  0.195975  0.076271\n",
              "\n",
              "[5 rows x 12 columns]"
            ]
          },
          "metadata": {},
          "execution_count": 84
        }
      ]
    },
    {
      "cell_type": "code",
      "metadata": {
        "id": "bdU0LtmdkXc-"
      },
      "source": [
        "# all_data.to_csv('/content/drive/MyDrive/GraduationProject/BBox_List.csv')"
      ],
      "execution_count": 85,
      "outputs": []
    },
    {
      "cell_type": "code",
      "metadata": {
        "colab": {
          "base_uri": "https://localhost:8080/",
          "height": 204
        },
        "id": "Yka1IHhyhWrS",
        "outputId": "1ee8a2cd-2ae3-44fb-d46c-cd1ca093b469"
      },
      "source": [
        "# all_data.rename(columns = {'Bbox [x' : 'x_min'}, inplace = True)\n",
        "# all_data.rename(columns = {'y' : 'y_min'}, inplace = True)\n",
        "# all_data.rename(columns = {'h]' : 'h'}, inplace = True)\n",
        "\n",
        "# all_data = all_data.drop(['Unnamed: 6','Unnamed: 7','Unnamed: 8'], axis = 1)\n",
        "# all_data.to_csv('/content/drive/MyDrive/GraduationProject/BBox_List.csv')\n",
        "\n",
        "# all_data.head()"
      ],
      "execution_count": 74,
      "outputs": [
        {
          "output_type": "execute_result",
          "data": {
            "text/html": [
              "<div>\n",
              "<style scoped>\n",
              "    .dataframe tbody tr th:only-of-type {\n",
              "        vertical-align: middle;\n",
              "    }\n",
              "\n",
              "    .dataframe tbody tr th {\n",
              "        vertical-align: top;\n",
              "    }\n",
              "\n",
              "    .dataframe thead th {\n",
              "        text-align: right;\n",
              "    }\n",
              "</style>\n",
              "<table border=\"1\" class=\"dataframe\">\n",
              "  <thead>\n",
              "    <tr style=\"text-align: right;\">\n",
              "      <th></th>\n",
              "      <th>Image Index</th>\n",
              "      <th>Finding Label</th>\n",
              "      <th>x_min</th>\n",
              "      <th>y_min</th>\n",
              "      <th>w</th>\n",
              "      <th>h</th>\n",
              "    </tr>\n",
              "  </thead>\n",
              "  <tbody>\n",
              "    <tr>\n",
              "      <th>0</th>\n",
              "      <td>00013118_008.png</td>\n",
              "      <td>Atelectasis</td>\n",
              "      <td>225.084746</td>\n",
              "      <td>547.019217</td>\n",
              "      <td>86.779661</td>\n",
              "      <td>79.186441</td>\n",
              "    </tr>\n",
              "    <tr>\n",
              "      <th>1</th>\n",
              "      <td>00014716_007.png</td>\n",
              "      <td>Atelectasis</td>\n",
              "      <td>686.101695</td>\n",
              "      <td>131.543498</td>\n",
              "      <td>185.491525</td>\n",
              "      <td>313.491525</td>\n",
              "    </tr>\n",
              "    <tr>\n",
              "      <th>2</th>\n",
              "      <td>00029817_009.png</td>\n",
              "      <td>Atelectasis</td>\n",
              "      <td>221.830508</td>\n",
              "      <td>317.053115</td>\n",
              "      <td>155.118644</td>\n",
              "      <td>216.949153</td>\n",
              "    </tr>\n",
              "    <tr>\n",
              "      <th>3</th>\n",
              "      <td>00014687_001.png</td>\n",
              "      <td>Atelectasis</td>\n",
              "      <td>726.237288</td>\n",
              "      <td>494.951420</td>\n",
              "      <td>141.016949</td>\n",
              "      <td>55.322034</td>\n",
              "    </tr>\n",
              "    <tr>\n",
              "      <th>4</th>\n",
              "      <td>00017877_001.png</td>\n",
              "      <td>Atelectasis</td>\n",
              "      <td>660.067797</td>\n",
              "      <td>569.780787</td>\n",
              "      <td>200.677966</td>\n",
              "      <td>78.101695</td>\n",
              "    </tr>\n",
              "  </tbody>\n",
              "</table>\n",
              "</div>"
            ],
            "text/plain": [
              "        Image Index Finding Label  ...           w           h\n",
              "0  00013118_008.png   Atelectasis  ...   86.779661   79.186441\n",
              "1  00014716_007.png   Atelectasis  ...  185.491525  313.491525\n",
              "2  00029817_009.png   Atelectasis  ...  155.118644  216.949153\n",
              "3  00014687_001.png   Atelectasis  ...  141.016949   55.322034\n",
              "4  00017877_001.png   Atelectasis  ...  200.677966   78.101695\n",
              "\n",
              "[5 rows x 6 columns]"
            ]
          },
          "metadata": {},
          "execution_count": 74
        }
      ]
    },
    {
      "cell_type": "code",
      "metadata": {
        "id": "o2beuTdNgkL4"
      },
      "source": [
        "# all_data.rename(columns = {'dim0' : 'w'}, inplace = True)\n",
        "# all_data.rename(columns = {'dim1' : 'h'}, inplace = True)\n",
        "# all_data.to_csv('/content/drive/MyDrive/GraduationProject/BBox_List.csv')"
      ],
      "execution_count": 59,
      "outputs": []
    }
  ]
}